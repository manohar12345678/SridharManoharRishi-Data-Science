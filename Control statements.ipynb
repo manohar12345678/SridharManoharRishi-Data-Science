{
 "cells": [
  {
   "cell_type": "markdown",
   "metadata": {},
   "source": [
    "# Conditional Statements"
   ]
  },
  {
   "cell_type": "markdown",
   "metadata": {},
   "source": [
    "# 1. if:"
   ]
  },
  {
   "cell_type": "code",
   "execution_count": 2,
   "metadata": {},
   "outputs": [
    {
     "name": "stdout",
     "output_type": "stream",
     "text": [
      "Enter number to check:-10\n"
     ]
    }
   ],
   "source": [
    "#program to check the given number is +ve\n",
    "n=int(input(\"Enter number to check:\"))\n",
    "if n>0:\n",
    "    print(\"+ve number\")"
   ]
  },
  {
   "cell_type": "markdown",
   "metadata": {},
   "source": [
    "# 2. if else"
   ]
  },
  {
   "cell_type": "code",
   "execution_count": 4,
   "metadata": {},
   "outputs": [
    {
     "name": "stdout",
     "output_type": "stream",
     "text": [
      "Enter number to check:-20\n",
      "-ve number\n"
     ]
    }
   ],
   "source": [
    "#program to check the given number is +ve or -ve\n",
    "n=int(input(\"Enter number to check:\"))\n",
    "if n>0:\n",
    "    print(\"+ve number\")\n",
    "else:\n",
    "    print(\"-ve number\")\n",
    "\n",
    "    "
   ]
  },
  {
   "cell_type": "code",
   "execution_count": 6,
   "metadata": {},
   "outputs": [
    {
     "name": "stdout",
     "output_type": "stream",
     "text": [
      "Enter ur pin number8899\n",
      "Pin is correct\n"
     ]
    }
   ],
   "source": [
    "#program to check ATM pin\n",
    "PIN=8899\n",
    "UPIN=int(input(\"Enter ur pin number\"))\n",
    "if PIN==UPIN:\n",
    "    print(\"Pin is correct\")\n",
    "else:\n",
    "    print(\"Wrong pin\")"
   ]
  },
  {
   "cell_type": "code",
   "execution_count": 10,
   "metadata": {},
   "outputs": [
    {
     "name": "stdout",
     "output_type": "stream",
     "text": [
      "Enter a value:10\n",
      "Enter b value:20\n",
      "b is big\n"
     ]
    }
   ],
   "source": [
    "#program to check biggest number of given two numbers\n",
    "a=int(input(\"Enter a value:\"))\n",
    "b=int(input(\"Enter b value:\"))\n",
    "if a>b:\n",
    "    print(\"a is big\")\n",
    "else:\n",
    "    print(\"b is big\")"
   ]
  },
  {
   "cell_type": "code",
   "execution_count": 11,
   "metadata": {},
   "outputs": [
    {
     "name": "stdout",
     "output_type": "stream",
     "text": [
      "Enter valueHello\n",
      "Hello\n"
     ]
    }
   ],
   "source": [
    "a=input(\"Enter value\")\n",
    "print(a)"
   ]
  },
  {
   "cell_type": "markdown",
   "metadata": {},
   "source": [
    "# 3. if elif"
   ]
  },
  {
   "cell_type": "code",
   "execution_count": 13,
   "metadata": {},
   "outputs": [
    {
     "name": "stdout",
     "output_type": "stream",
     "text": [
      "Enter a value:20\n",
      "Enter b value:10\n",
      "Enter c value:5\n",
      "a is biggest number\n"
     ]
    }
   ],
   "source": [
    "#program to check the biggest number of given 3 numbers\n",
    "a=int(input(\"Enter a value:\"))\n",
    "b=int(input(\"Enter b value:\"))\n",
    "c=int(input(\"Enter c value:\"))\n",
    "if a>b and a>c:\n",
    "    print(\"a is biggest number\")\n",
    "elif b>c:\n",
    "    print(\"b is biggest number\")\n",
    "else:\n",
    "    print(\"c is biggest number\")"
   ]
  },
  {
   "cell_type": "code",
   "execution_count": null,
   "metadata": {},
   "outputs": [],
   "source": [
    "1. program to check the given number is even or odd\n",
    "2. program to check the given character is vowel or consonant"
   ]
  },
  {
   "cell_type": "code",
   "execution_count": 7,
   "metadata": {},
   "outputs": [
    {
     "name": "stdout",
     "output_type": "stream",
     "text": [
      "Enter number to check:20\n",
      "<class 'int'>\n",
      "Even number\n"
     ]
    }
   ],
   "source": [
    "#1 program to check the given number is even or odd\n",
    "n=int(input(\"Enter number to check:\"))\n",
    "print(type(n))\n",
    "if n%2==0:\n",
    "    print(\"Even number\")\n",
    "else:\n",
    "    print(\"Odd number\")"
   ]
  },
  {
   "cell_type": "code",
   "execution_count": 13,
   "metadata": {},
   "outputs": [
    {
     "name": "stdout",
     "output_type": "stream",
     "text": [
      "Enter character to check:Z\n",
      "Consonant\n"
     ]
    }
   ],
   "source": [
    "#2. program to check the given character is vowel or consonant\n",
    "ch=input(\"Enter character to check:\")\n",
    "if ch=='a' or ch=='e' or ch=='i' or ch=='o' or ch=='u' or ch=='A' or ch=='E' or ch=='I' or ch=='O' or ch=='U':\n",
    "    print(\"Vowel\")\n",
    "else:\n",
    "    print(\"Consonant\")"
   ]
  },
  {
   "cell_type": "code",
   "execution_count": 15,
   "metadata": {},
   "outputs": [
    {
     "name": "stdout",
     "output_type": "stream",
     "text": [
      "Enter character to check:A\n",
      "Vowel\n"
     ]
    }
   ],
   "source": [
    "n=input(\"Enter character to check:\")\n",
    "if n in('a','e','i','o','u','A','E','I','O','U'):\n",
    "    print(\"Vowel\")\n",
    "else:\n",
    "    print(\"Consonant\")"
   ]
  },
  {
   "cell_type": "code",
   "execution_count": 19,
   "metadata": {},
   "outputs": [
    {
     "name": "stdout",
     "output_type": "stream",
     "text": [
      "Enter number to convert:8\n",
      "EIGHT\n"
     ]
    }
   ],
   "source": [
    "#program to convert number to word 0 to 10\n",
    "n=int(input(\"Enter number to convert:\"))\n",
    "if n==0:\n",
    "    print(\"ZERO\")\n",
    "elif n==1:\n",
    "    print(\"ONE\")\n",
    "elif n==2:\n",
    "    print(\"TWO\")\n",
    "elif n==3:\n",
    "    print(\"THREE\")\n",
    "elif n==4:\n",
    "    print(\"FOUR\")\n",
    "elif n==5:\n",
    "    print(\"FIVE\")\n",
    "elif n==6:\n",
    "    print(\"SIX\")\n",
    "elif n==7:\n",
    "    print(\"SEVEN\")\n",
    "elif n==8:\n",
    "    print(\"EIGHT\")\n",
    "elif n==9:\n",
    "    print(\"NINE\")\n",
    "elif n==10:\n",
    "    print(\"TEN\")\n",
    "else:\n",
    "    \n",
    "    print(\"Please ente number between 0 to 10\") \n"
   ]
  },
  {
   "cell_type": "code",
   "execution_count": null,
   "metadata": {},
   "outputs": [],
   "source": [
    "3. Program to convert number to word  \n",
    "example: 123 ---> One hundred and twenty three\n",
    "    "
   ]
  },
  {
   "cell_type": "code",
   "execution_count": 22,
   "metadata": {},
   "outputs": [
    {
     "name": "stdout",
     "output_type": "stream",
     "text": [
      "Enter name to check:Suresh\n",
      "Wrong username\n"
     ]
    }
   ],
   "source": [
    "#program to check for user credentials \n",
    "name=input(\"Enter name to check:\")\n",
    "if name==\"Venky\":\n",
    "    pswd=input(\"Enter pswrd:\")\n",
    "    if pswd==\"Venky@123\":\n",
    "        print(\"Accessed\")\n",
    "    else:\n",
    "        print(\"Wrong pswrd\")\n",
    "else:\n",
    "    print(\"Wrong username\")"
   ]
  },
  {
   "cell_type": "code",
   "execution_count": null,
   "metadata": {},
   "outputs": [],
   "source": [
    "4. Program to check for age limit access to book a A+ Movie \n"
   ]
  },
  {
   "cell_type": "code",
   "execution_count": 1,
   "metadata": {},
   "outputs": [],
   "source": [
    "import num2words"
   ]
  },
  {
   "cell_type": "code",
   "execution_count": null,
   "metadata": {},
   "outputs": [],
   "source": [
    "#program to convert number to words\n",
    "from num2words import num2words\n",
    "n=int(input(\"Enter number to convert:\"))\n",
    "print(num2words(n))"
   ]
  },
  {
   "cell_type": "markdown",
   "metadata": {},
   "source": [
    "# Nested If else"
   ]
  },
  {
   "cell_type": "code",
   "execution_count": 7,
   "metadata": {},
   "outputs": [
    {
     "name": "stdout",
     "output_type": "stream",
     "text": [
      "Enter PIN number8866\n",
      "1. Withdraw zjfasbdjbsajb     2. Balance\n",
      "\n",
      "3. PIN change    4. Mini Statement\n",
      "\n",
      "Select the option to process:2\n",
      "Your account balance is: 5000\n"
     ]
    }
   ],
   "source": [
    "#ATM Program\n",
    "PIN=int(input(\"Enter PIN number\"))\n",
    "balance=5000\n",
    "if PIN==8866:\n",
    "    print(\"1. Withdraw      2. Balance\\n\")\n",
    "    print(\"3. PIN change    4. Mini Statement\\n\")\n",
    "    option=int(input(\"Select the option to process:\"))\n",
    "    if option==1:\n",
    "        uamount=int(input(\"Enter amount to withdraw:\"))\n",
    "        if uamount<=balance:\n",
    "            print(\"Your transaction is in process please collect your cash\")\n",
    "            balance=balance-uamount\n",
    "            print(\"Your account balance is:\",balance)\n",
    "        else:\n",
    "            print(\"Insufficent amount....\")\n",
    "    elif option==2:\n",
    "        print(\"Your account balance is:\",balance)\n",
    "    elif option==3:\n",
    "        upin=int(input(\"Enter your old pin:\"))\n",
    "        if upin==PIN:\n",
    "            newpin=int(input(\"Enter new pin:\"))\n",
    "            PIN=newpin\n",
    "            print(\"PIN changed succesfully: your new pin is:\",PIN)\n",
    "        else:\n",
    "            print(\"Wrong pin ...please try again\")\n",
    "    elif option==4:\n",
    "        print(\"For mini statement please contact your bank\")\n",
    "    else:\n",
    "        print(\"Wrong option selected.....\")\n",
    "else:\n",
    "    print(\"Wrong PIN entered please try again....\")"
   ]
  },
  {
   "cell_type": "code",
   "execution_count": 12,
   "metadata": {},
   "outputs": [
    {
     "name": "stdout",
     "output_type": "stream",
     "text": [
      "Enter number to check:450\n",
      "Not div\n"
     ]
    }
   ],
   "source": [
    "n=int(input(\"Enter number to check:\"))\n",
    "if n%100==0:\n",
    "    print(\"Div by 100\")\n",
    "else:\n",
    "    print(\"Not div\")"
   ]
  },
  {
   "cell_type": "code",
   "execution_count": null,
   "metadata": {},
   "outputs": [],
   "source": []
  }
 ],
 "metadata": {
  "kernelspec": {
   "display_name": "Python 3",
   "language": "python",
   "name": "python3"
  },
  "language_info": {
   "codemirror_mode": {
    "name": "ipython",
    "version": 3
   },
   "file_extension": ".py",
   "mimetype": "text/x-python",
   "name": "python",
   "nbconvert_exporter": "python",
   "pygments_lexer": "ipython3",
   "version": "3.7.4"
  }
 },
 "nbformat": 4,
 "nbformat_minor": 4
}
